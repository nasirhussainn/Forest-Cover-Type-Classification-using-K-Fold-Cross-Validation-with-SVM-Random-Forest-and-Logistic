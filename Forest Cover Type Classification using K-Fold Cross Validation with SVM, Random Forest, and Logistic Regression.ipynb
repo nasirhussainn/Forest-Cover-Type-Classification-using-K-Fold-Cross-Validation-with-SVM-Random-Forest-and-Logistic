{
 "cells": [
  {
   "cell_type": "markdown",
   "id": "fc056315",
   "metadata": {},
   "source": [
    "***<span style=\"color:purple\">K-Fold Cross Validation</span>***"
   ]
  },
  {
   "cell_type": "markdown",
   "id": "7e6cafeb",
   "metadata": {},
   "source": [
    "<p style=\"color:maroon\">K-fold cross-validation is a technique used to evaluate the performance of a machine learning model on a dataset. The basic idea is to split the data into K equal-sized folds or subsets, where K is a user-specified parameter.</p>\n",
    "\n",
    "<p style=\"color:maroon\">The model is then trained on K-1 folds of the data and evaluated on the remaining fold. This process is repeated K times, with each fold used exactly once as the validation data. The results from each fold are averaged to provide an estimate of the model's performance on the full dataset.</p>\n",
    "\n",
    "<p style=\"color:maroon\">K-fold cross-validation is a powerful technique for estimating the performance of a model and can help reduce the risk of overfitting to the training data. By using multiple folds for validation, the model is able to generalize better to new data and the estimate of its performance is less biased.</p>"
   ]
  },
  {
   "cell_type": "code",
   "execution_count": 1,
   "id": "c448accd",
   "metadata": {},
   "outputs": [],
   "source": [
    "import pandas as pd\n",
    "import numpy as np\n",
    "import sklearn"
   ]
  },
  {
   "cell_type": "markdown",
   "id": "a80246af",
   "metadata": {},
   "source": [
    "<p>The <b>\"Forest Cover Type\"</b> dataset is a popular dataset used for classification tasks in machine learning. It contains 54 input features and a target variable \"Cover_Type\", which represents the forest cover type. There are 7 different forest cover types in the dataset, represented by integers from 1 to 7.</p> \n",
    "<p>Here's a brief overview of the 7 forest cover types:</p>\n",
    "<ol>\n",
    "<li style=\"color:green\">Spruce/Fir</li>\n",
    "<li style=\"color:green\">Lodgepole Pine</li>\n",
    "<li style=\"color:green\">Ponderosa Pine</li>\n",
    "<li style=\"color:green\">Cottonwood/Willow</li>\n",
    "<li style=\"color:green\">Aspen</li>\n",
    "<li style=\"color:green\">Douglas Fir</li>\n",
    "<li style=\"color:green\">Krummholz</li>\n",
    "</ol>"
   ]
  },
  {
   "cell_type": "markdown",
   "id": "9df2d7cc",
   "metadata": {},
   "source": [
    "**Main objective**"
   ]
  },
  {
   "cell_type": "markdown",
   "id": "02e8bcb2",
   "metadata": {},
   "source": [
    "As the dataset is very large and it takes lots of time to compute three different supervised algorithm\n",
    "we limit the sample with only 5000 data.\n",
    "Therefore the predict score is less but main objective is to understand the use of k-fold cross validation"
   ]
  },
  {
   "cell_type": "code",
   "execution_count": 2,
   "id": "4884303c",
   "metadata": {},
   "outputs": [
    {
     "data": {
      "text/html": [
       "<div>\n",
       "<style scoped>\n",
       "    .dataframe tbody tr th:only-of-type {\n",
       "        vertical-align: middle;\n",
       "    }\n",
       "\n",
       "    .dataframe tbody tr th {\n",
       "        vertical-align: top;\n",
       "    }\n",
       "\n",
       "    .dataframe thead th {\n",
       "        text-align: right;\n",
       "    }\n",
       "</style>\n",
       "<table border=\"1\" class=\"dataframe\">\n",
       "  <thead>\n",
       "    <tr style=\"text-align: right;\">\n",
       "      <th></th>\n",
       "      <th>Elevation</th>\n",
       "      <th>Aspect</th>\n",
       "      <th>Slope</th>\n",
       "      <th>Horizontal_Distance_To_Hydrology</th>\n",
       "      <th>Vertical_Distance_To_Hydrology</th>\n",
       "      <th>Horizontal_Distance_To_Roadways</th>\n",
       "      <th>Hillshade_9am</th>\n",
       "      <th>Hillshade_Noon</th>\n",
       "      <th>Hillshade_3pm</th>\n",
       "      <th>Horizontal_Distance_To_Fire_Points</th>\n",
       "      <th>...</th>\n",
       "      <th>Soil_Type32</th>\n",
       "      <th>Soil_Type33</th>\n",
       "      <th>Soil_Type34</th>\n",
       "      <th>Soil_Type35</th>\n",
       "      <th>Soil_Type36</th>\n",
       "      <th>Soil_Type37</th>\n",
       "      <th>Soil_Type38</th>\n",
       "      <th>Soil_Type39</th>\n",
       "      <th>Soil_Type40</th>\n",
       "      <th>Cover_Type</th>\n",
       "    </tr>\n",
       "  </thead>\n",
       "  <tbody>\n",
       "    <tr>\n",
       "      <th>250728</th>\n",
       "      <td>3351</td>\n",
       "      <td>206</td>\n",
       "      <td>27</td>\n",
       "      <td>726</td>\n",
       "      <td>124</td>\n",
       "      <td>3813</td>\n",
       "      <td>192</td>\n",
       "      <td>252</td>\n",
       "      <td>180</td>\n",
       "      <td>2271</td>\n",
       "      <td>...</td>\n",
       "      <td>0</td>\n",
       "      <td>0</td>\n",
       "      <td>0</td>\n",
       "      <td>0</td>\n",
       "      <td>0</td>\n",
       "      <td>0</td>\n",
       "      <td>1</td>\n",
       "      <td>0</td>\n",
       "      <td>0</td>\n",
       "      <td>1</td>\n",
       "    </tr>\n",
       "    <tr>\n",
       "      <th>246788</th>\n",
       "      <td>2732</td>\n",
       "      <td>129</td>\n",
       "      <td>7</td>\n",
       "      <td>212</td>\n",
       "      <td>1</td>\n",
       "      <td>1082</td>\n",
       "      <td>231</td>\n",
       "      <td>236</td>\n",
       "      <td>137</td>\n",
       "      <td>912</td>\n",
       "      <td>...</td>\n",
       "      <td>0</td>\n",
       "      <td>0</td>\n",
       "      <td>0</td>\n",
       "      <td>0</td>\n",
       "      <td>0</td>\n",
       "      <td>0</td>\n",
       "      <td>0</td>\n",
       "      <td>0</td>\n",
       "      <td>0</td>\n",
       "      <td>2</td>\n",
       "    </tr>\n",
       "    <tr>\n",
       "      <th>407714</th>\n",
       "      <td>2572</td>\n",
       "      <td>24</td>\n",
       "      <td>9</td>\n",
       "      <td>201</td>\n",
       "      <td>25</td>\n",
       "      <td>957</td>\n",
       "      <td>216</td>\n",
       "      <td>222</td>\n",
       "      <td>142</td>\n",
       "      <td>2191</td>\n",
       "      <td>...</td>\n",
       "      <td>0</td>\n",
       "      <td>0</td>\n",
       "      <td>0</td>\n",
       "      <td>0</td>\n",
       "      <td>0</td>\n",
       "      <td>0</td>\n",
       "      <td>0</td>\n",
       "      <td>0</td>\n",
       "      <td>0</td>\n",
       "      <td>2</td>\n",
       "    </tr>\n",
       "    <tr>\n",
       "      <th>25713</th>\n",
       "      <td>2824</td>\n",
       "      <td>69</td>\n",
       "      <td>13</td>\n",
       "      <td>417</td>\n",
       "      <td>39</td>\n",
       "      <td>3223</td>\n",
       "      <td>233</td>\n",
       "      <td>214</td>\n",
       "      <td>110</td>\n",
       "      <td>6478</td>\n",
       "      <td>...</td>\n",
       "      <td>0</td>\n",
       "      <td>0</td>\n",
       "      <td>0</td>\n",
       "      <td>0</td>\n",
       "      <td>0</td>\n",
       "      <td>0</td>\n",
       "      <td>0</td>\n",
       "      <td>0</td>\n",
       "      <td>0</td>\n",
       "      <td>2</td>\n",
       "    </tr>\n",
       "    <tr>\n",
       "      <th>21820</th>\n",
       "      <td>2529</td>\n",
       "      <td>84</td>\n",
       "      <td>5</td>\n",
       "      <td>120</td>\n",
       "      <td>9</td>\n",
       "      <td>1092</td>\n",
       "      <td>227</td>\n",
       "      <td>231</td>\n",
       "      <td>139</td>\n",
       "      <td>4983</td>\n",
       "      <td>...</td>\n",
       "      <td>0</td>\n",
       "      <td>0</td>\n",
       "      <td>0</td>\n",
       "      <td>0</td>\n",
       "      <td>0</td>\n",
       "      <td>0</td>\n",
       "      <td>0</td>\n",
       "      <td>0</td>\n",
       "      <td>0</td>\n",
       "      <td>2</td>\n",
       "    </tr>\n",
       "    <tr>\n",
       "      <th>...</th>\n",
       "      <td>...</td>\n",
       "      <td>...</td>\n",
       "      <td>...</td>\n",
       "      <td>...</td>\n",
       "      <td>...</td>\n",
       "      <td>...</td>\n",
       "      <td>...</td>\n",
       "      <td>...</td>\n",
       "      <td>...</td>\n",
       "      <td>...</td>\n",
       "      <td>...</td>\n",
       "      <td>...</td>\n",
       "      <td>...</td>\n",
       "      <td>...</td>\n",
       "      <td>...</td>\n",
       "      <td>...</td>\n",
       "      <td>...</td>\n",
       "      <td>...</td>\n",
       "      <td>...</td>\n",
       "      <td>...</td>\n",
       "      <td>...</td>\n",
       "    </tr>\n",
       "    <tr>\n",
       "      <th>163049</th>\n",
       "      <td>2918</td>\n",
       "      <td>31</td>\n",
       "      <td>7</td>\n",
       "      <td>150</td>\n",
       "      <td>12</td>\n",
       "      <td>1727</td>\n",
       "      <td>218</td>\n",
       "      <td>225</td>\n",
       "      <td>143</td>\n",
       "      <td>1935</td>\n",
       "      <td>...</td>\n",
       "      <td>0</td>\n",
       "      <td>0</td>\n",
       "      <td>0</td>\n",
       "      <td>0</td>\n",
       "      <td>0</td>\n",
       "      <td>0</td>\n",
       "      <td>0</td>\n",
       "      <td>0</td>\n",
       "      <td>0</td>\n",
       "      <td>2</td>\n",
       "    </tr>\n",
       "    <tr>\n",
       "      <th>576428</th>\n",
       "      <td>2583</td>\n",
       "      <td>21</td>\n",
       "      <td>20</td>\n",
       "      <td>247</td>\n",
       "      <td>108</td>\n",
       "      <td>2191</td>\n",
       "      <td>203</td>\n",
       "      <td>194</td>\n",
       "      <td>122</td>\n",
       "      <td>595</td>\n",
       "      <td>...</td>\n",
       "      <td>0</td>\n",
       "      <td>0</td>\n",
       "      <td>0</td>\n",
       "      <td>0</td>\n",
       "      <td>0</td>\n",
       "      <td>0</td>\n",
       "      <td>0</td>\n",
       "      <td>0</td>\n",
       "      <td>0</td>\n",
       "      <td>2</td>\n",
       "    </tr>\n",
       "    <tr>\n",
       "      <th>562765</th>\n",
       "      <td>2581</td>\n",
       "      <td>70</td>\n",
       "      <td>15</td>\n",
       "      <td>150</td>\n",
       "      <td>62</td>\n",
       "      <td>1570</td>\n",
       "      <td>235</td>\n",
       "      <td>210</td>\n",
       "      <td>103</td>\n",
       "      <td>1873</td>\n",
       "      <td>...</td>\n",
       "      <td>0</td>\n",
       "      <td>0</td>\n",
       "      <td>0</td>\n",
       "      <td>0</td>\n",
       "      <td>0</td>\n",
       "      <td>0</td>\n",
       "      <td>0</td>\n",
       "      <td>0</td>\n",
       "      <td>0</td>\n",
       "      <td>2</td>\n",
       "    </tr>\n",
       "    <tr>\n",
       "      <th>412372</th>\n",
       "      <td>3052</td>\n",
       "      <td>33</td>\n",
       "      <td>16</td>\n",
       "      <td>371</td>\n",
       "      <td>107</td>\n",
       "      <td>1694</td>\n",
       "      <td>215</td>\n",
       "      <td>202</td>\n",
       "      <td>118</td>\n",
       "      <td>3408</td>\n",
       "      <td>...</td>\n",
       "      <td>0</td>\n",
       "      <td>1</td>\n",
       "      <td>0</td>\n",
       "      <td>0</td>\n",
       "      <td>0</td>\n",
       "      <td>0</td>\n",
       "      <td>0</td>\n",
       "      <td>0</td>\n",
       "      <td>0</td>\n",
       "      <td>1</td>\n",
       "    </tr>\n",
       "    <tr>\n",
       "      <th>389675</th>\n",
       "      <td>3238</td>\n",
       "      <td>55</td>\n",
       "      <td>13</td>\n",
       "      <td>67</td>\n",
       "      <td>5</td>\n",
       "      <td>2563</td>\n",
       "      <td>228</td>\n",
       "      <td>211</td>\n",
       "      <td>113</td>\n",
       "      <td>1289</td>\n",
       "      <td>...</td>\n",
       "      <td>0</td>\n",
       "      <td>0</td>\n",
       "      <td>0</td>\n",
       "      <td>0</td>\n",
       "      <td>0</td>\n",
       "      <td>0</td>\n",
       "      <td>0</td>\n",
       "      <td>0</td>\n",
       "      <td>0</td>\n",
       "      <td>1</td>\n",
       "    </tr>\n",
       "  </tbody>\n",
       "</table>\n",
       "<p>5000 rows × 55 columns</p>\n",
       "</div>"
      ],
      "text/plain": [
       "        Elevation  Aspect  Slope  Horizontal_Distance_To_Hydrology  \\\n",
       "250728       3351     206     27                               726   \n",
       "246788       2732     129      7                               212   \n",
       "407714       2572      24      9                               201   \n",
       "25713        2824      69     13                               417   \n",
       "21820        2529      84      5                               120   \n",
       "...           ...     ...    ...                               ...   \n",
       "163049       2918      31      7                               150   \n",
       "576428       2583      21     20                               247   \n",
       "562765       2581      70     15                               150   \n",
       "412372       3052      33     16                               371   \n",
       "389675       3238      55     13                                67   \n",
       "\n",
       "        Vertical_Distance_To_Hydrology  Horizontal_Distance_To_Roadways  \\\n",
       "250728                             124                             3813   \n",
       "246788                               1                             1082   \n",
       "407714                              25                              957   \n",
       "25713                               39                             3223   \n",
       "21820                                9                             1092   \n",
       "...                                ...                              ...   \n",
       "163049                              12                             1727   \n",
       "576428                             108                             2191   \n",
       "562765                              62                             1570   \n",
       "412372                             107                             1694   \n",
       "389675                               5                             2563   \n",
       "\n",
       "        Hillshade_9am  Hillshade_Noon  Hillshade_3pm  \\\n",
       "250728            192             252            180   \n",
       "246788            231             236            137   \n",
       "407714            216             222            142   \n",
       "25713             233             214            110   \n",
       "21820             227             231            139   \n",
       "...               ...             ...            ...   \n",
       "163049            218             225            143   \n",
       "576428            203             194            122   \n",
       "562765            235             210            103   \n",
       "412372            215             202            118   \n",
       "389675            228             211            113   \n",
       "\n",
       "        Horizontal_Distance_To_Fire_Points  ...  Soil_Type32  Soil_Type33  \\\n",
       "250728                                2271  ...            0            0   \n",
       "246788                                 912  ...            0            0   \n",
       "407714                                2191  ...            0            0   \n",
       "25713                                 6478  ...            0            0   \n",
       "21820                                 4983  ...            0            0   \n",
       "...                                    ...  ...          ...          ...   \n",
       "163049                                1935  ...            0            0   \n",
       "576428                                 595  ...            0            0   \n",
       "562765                                1873  ...            0            0   \n",
       "412372                                3408  ...            0            1   \n",
       "389675                                1289  ...            0            0   \n",
       "\n",
       "        Soil_Type34  Soil_Type35  Soil_Type36  Soil_Type37  Soil_Type38  \\\n",
       "250728            0            0            0            0            1   \n",
       "246788            0            0            0            0            0   \n",
       "407714            0            0            0            0            0   \n",
       "25713             0            0            0            0            0   \n",
       "21820             0            0            0            0            0   \n",
       "...             ...          ...          ...          ...          ...   \n",
       "163049            0            0            0            0            0   \n",
       "576428            0            0            0            0            0   \n",
       "562765            0            0            0            0            0   \n",
       "412372            0            0            0            0            0   \n",
       "389675            0            0            0            0            0   \n",
       "\n",
       "        Soil_Type39  Soil_Type40  Cover_Type  \n",
       "250728            0            0           1  \n",
       "246788            0            0           2  \n",
       "407714            0            0           2  \n",
       "25713             0            0           2  \n",
       "21820             0            0           2  \n",
       "...             ...          ...         ...  \n",
       "163049            0            0           2  \n",
       "576428            0            0           2  \n",
       "562765            0            0           2  \n",
       "412372            0            0           1  \n",
       "389675            0            0           1  \n",
       "\n",
       "[5000 rows x 55 columns]"
      ]
     },
     "execution_count": 2,
     "metadata": {},
     "output_type": "execute_result"
    }
   ],
   "source": [
    "df_s=pd.read_csv(\"covtype.csv\")\n",
    "df = df_s.sample(n=5000, random_state=42)\n",
    "df"
   ]
  },
  {
   "cell_type": "markdown",
   "id": "54c5f44e",
   "metadata": {},
   "source": [
    "**Setting Input and Target**"
   ]
  },
  {
   "cell_type": "code",
   "execution_count": 3,
   "id": "9b753e77",
   "metadata": {},
   "outputs": [],
   "source": [
    "inputs=df.drop('Cover_Type',axis=1).values\n",
    "target=df.Cover_Type.values"
   ]
  },
  {
   "cell_type": "markdown",
   "id": "e097fc14",
   "metadata": {},
   "source": [
    "**<span style=\"color:purple\">Importing K-Fold Cross Validation</span>**"
   ]
  },
  {
   "cell_type": "code",
   "execution_count": 4,
   "id": "1c7dcecc",
   "metadata": {},
   "outputs": [],
   "source": [
    "from sklearn.model_selection import KFold\n",
    "kf=KFold(n_splits=3)"
   ]
  },
  {
   "cell_type": "markdown",
   "id": "07835f0f",
   "metadata": {},
   "source": [
    "*splitting*"
   ]
  },
  {
   "cell_type": "code",
   "execution_count": 5,
   "id": "802ad0f1",
   "metadata": {},
   "outputs": [],
   "source": [
    "for train_index, test_index in kf.split(inputs,target):\n",
    "    X_train, X_test, y_train, y_test = inputs[train_index], inputs[test_index], \\\n",
    "                                       target[train_index], target[test_index]"
   ]
  },
  {
   "cell_type": "code",
   "execution_count": 6,
   "id": "7c421edf",
   "metadata": {},
   "outputs": [],
   "source": [
    "def get_score(model,x_train,x_test,y_train,y_test):\n",
    "    model.fit(x_train, y_train)\n",
    "    return model.score(x_test, y_test)"
   ]
  },
  {
   "cell_type": "code",
   "execution_count": 7,
   "id": "21458bb0",
   "metadata": {},
   "outputs": [],
   "source": [
    "from sklearn.linear_model import LogisticRegression\n",
    "from sklearn.svm import SVC\n",
    "from sklearn.ensemble import RandomForestClassifier"
   ]
  },
  {
   "cell_type": "markdown",
   "id": "1e4e382a",
   "metadata": {},
   "source": [
    "**<p style=\"color:blue\">This is to understand how k-fold really work internally</p>**"
   ]
  },
  {
   "cell_type": "code",
   "execution_count": 8,
   "id": "593663c3",
   "metadata": {},
   "outputs": [],
   "source": [
    "scores_logistic = []\n",
    "scores_svm = []\n",
    "scores_rf = []\n",
    "\n",
    "for train_index, test_index in kf.split(inputs,target):\n",
    "    X_train, X_test, y_train, y_test = inputs[train_index], inputs[test_index], \\\n",
    "                                       target[train_index], target[test_index]\n",
    "    scores_logistic.append(get_score(LogisticRegression(solver='liblinear',multi_class='ovr'), X_train, X_test, y_train, y_test))  \n",
    "    scores_svm.append(get_score(SVC(gamma='auto'), X_train, X_test, y_train, y_test))\n",
    "    scores_rf.append(get_score(RandomForestClassifier(n_estimators=40), X_train, X_test, y_train, y_test))"
   ]
  },
  {
   "cell_type": "markdown",
   "id": "5d2a681c",
   "metadata": {},
   "source": [
    "**We have 3 score for each model and we show only average**"
   ]
  },
  {
   "cell_type": "code",
   "execution_count": 25,
   "id": "c0762c34",
   "metadata": {
    "scrolled": true
   },
   "outputs": [
    {
     "data": {
      "text/plain": [
       "0.7033991761071555"
      ]
     },
     "execution_count": 25,
     "metadata": {},
     "output_type": "execute_result"
    }
   ],
   "source": [
    "np.average(scores_logistic)"
   ]
  },
  {
   "cell_type": "code",
   "execution_count": 26,
   "id": "ee5057cf",
   "metadata": {},
   "outputs": [
    {
     "data": {
      "text/plain": [
       "0.4794005184557326"
      ]
     },
     "execution_count": 26,
     "metadata": {},
     "output_type": "execute_result"
    }
   ],
   "source": [
    "np.average(scores_svm)"
   ]
  },
  {
   "cell_type": "code",
   "execution_count": 27,
   "id": "53ddf8ef",
   "metadata": {},
   "outputs": [
    {
     "data": {
      "text/plain": [
       "0.7573991804280201"
      ]
     },
     "execution_count": 27,
     "metadata": {},
     "output_type": "execute_result"
    }
   ],
   "source": [
    "np.average(scores_rf)"
   ]
  },
  {
   "cell_type": "markdown",
   "id": "62b66243",
   "metadata": {},
   "source": [
    "**<span style=\"color:purple\">Using cross_val_score</span>**"
   ]
  },
  {
   "cell_type": "markdown",
   "id": "243f6b6a",
   "metadata": {},
   "source": [
    "Now this is how it easily done with sklearn lib"
   ]
  },
  {
   "cell_type": "code",
   "execution_count": 40,
   "id": "ab765d6f",
   "metadata": {},
   "outputs": [],
   "source": [
    "from sklearn.model_selection import cross_val_score"
   ]
  },
  {
   "cell_type": "code",
   "execution_count": 32,
   "id": "c6f862ed",
   "metadata": {},
   "outputs": [
    {
     "data": {
      "text/plain": [
       "0.7053990162351683"
      ]
     },
     "execution_count": 32,
     "metadata": {},
     "output_type": "execute_result"
    }
   ],
   "source": [
    "loreg=cross_val_score(LogisticRegression(solver='liblinear',multi_class='ovr'), inputs, target,cv=3)\n",
    "np.average(loreg)"
   ]
  },
  {
   "cell_type": "code",
   "execution_count": 33,
   "id": "f2b3681d",
   "metadata": {},
   "outputs": [
    {
     "data": {
      "text/plain": [
       "0.47940003835967504"
      ]
     },
     "execution_count": 33,
     "metadata": {},
     "output_type": "execute_result"
    }
   ],
   "source": [
    "svm=cross_val_score(SVC(gamma='auto'), inputs, target,cv=3)\n",
    "np.average(svm)"
   ]
  },
  {
   "cell_type": "code",
   "execution_count": 34,
   "id": "41dedfcb",
   "metadata": {},
   "outputs": [
    {
     "data": {
      "text/plain": [
       "0.7479996197639224"
      ]
     },
     "execution_count": 34,
     "metadata": {},
     "output_type": "execute_result"
    }
   ],
   "source": [
    "rfc=cross_val_score(RandomForestClassifier(n_estimators=40),inputs, target,cv=3)\n",
    "np.average(rfc)"
   ]
  },
  {
   "cell_type": "code",
   "execution_count": null,
   "id": "308d568d",
   "metadata": {},
   "outputs": [],
   "source": []
  }
 ],
 "metadata": {
  "kernelspec": {
   "display_name": "Python 3 (ipykernel)",
   "language": "python",
   "name": "python3"
  },
  "language_info": {
   "codemirror_mode": {
    "name": "ipython",
    "version": 3
   },
   "file_extension": ".py",
   "mimetype": "text/x-python",
   "name": "python",
   "nbconvert_exporter": "python",
   "pygments_lexer": "ipython3",
   "version": "3.10.8"
  }
 },
 "nbformat": 4,
 "nbformat_minor": 5
}
